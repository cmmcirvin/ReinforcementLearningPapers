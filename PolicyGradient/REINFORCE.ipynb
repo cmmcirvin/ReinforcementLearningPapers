{
 "cells": [
  {
   "attachments": {},
   "cell_type": "markdown",
   "metadata": {},
   "source": [
    "Package Imports"
   ]
  },
  {
   "cell_type": "code",
   "execution_count": 170,
   "metadata": {},
   "outputs": [],
   "source": [
    "import gym\n",
    "import numpy as np\n",
    "import torch\n",
    "import matplotlib.pyplot as plt\n",
    "from tqdm import trange"
   ]
  },
  {
   "attachments": {},
   "cell_type": "markdown",
   "metadata": {},
   "source": [
    "Hyperparameters and constants:"
   ]
  },
  {
   "cell_type": "code",
   "execution_count": 178,
   "metadata": {},
   "outputs": [],
   "source": [
    "NUM_FEATURES = 4\n",
    "NUM_ACTIONS = 2\n",
    "MAX_EPISODES = 1500\n",
    "AVG_EPS_TO_COMPLETION = 10\n",
    "\n",
    "alpha = 0.01\n",
    "gamma = 0.9"
   ]
  },
  {
   "attachments": {},
   "cell_type": "markdown",
   "metadata": {},
   "source": [
    "Setting up the environment"
   ]
  },
  {
   "cell_type": "code",
   "execution_count": 183,
   "metadata": {},
   "outputs": [
    {
     "name": "stderr",
     "output_type": "stream",
     "text": [
      "c:\\Users\\Caleb\\anaconda3\\lib\\site-packages\\gym\\envs\\registration.py:555: UserWarning: \u001b[33mWARN: The environment CartPole-v0 is out of date. You should consider upgrading to version `v1`.\u001b[0m\n",
      "  logger.warn(\n"
     ]
    }
   ],
   "source": [
    "env = gym.make(\"CartPole-v0\")"
   ]
  },
  {
   "attachments": {},
   "cell_type": "markdown",
   "metadata": {},
   "source": [
    "Creating the agent"
   ]
  },
  {
   "cell_type": "code",
   "execution_count": 173,
   "metadata": {},
   "outputs": [],
   "source": [
    "class Agent(torch.nn.Module):\n",
    "\n",
    "    def __init__(self): # Initialize agent\n",
    "        super(Agent, self).__init__()\n",
    "        \n",
    "        self.layer1 = torch.nn.Linear(NUM_FEATURES, 128) # Adding linear and activation layers\n",
    "        self.activ1 = torch.nn.Dropout(p=0.6)\n",
    "        self.layer2 = torch.nn.Linear(128, NUM_ACTIONS)\n",
    "\n",
    "    def forward(self, x): # Forward step\n",
    "        x = self.layer1(x)\n",
    "        x = self.activ1(x)\n",
    "        x = torch.nn.functional.relu(x)\n",
    "        x = self.layer2(x)\n",
    "        \n",
    "        return torch.nn.functional.softmax(x, dim=1) # Softmax over outputs"
   ]
  },
  {
   "attachments": {},
   "cell_type": "markdown",
   "metadata": {},
   "source": [
    "Run one episode of CartPole"
   ]
  },
  {
   "cell_type": "code",
   "execution_count": 152,
   "metadata": {},
   "outputs": [],
   "source": [
    "def run_episode(policy):\n",
    "\n",
    "    transitions = [] # Store state, action, reward tuples to return \n",
    "    state = env.reset()[0] # Get initial state\n",
    "    terminated, truncated = False, False # Check if episode is done\n",
    "    log_probs = [] # Store probabilities of action taken\n",
    "\n",
    "    while not terminated and not truncated: # Iterate until episode end\n",
    "\n",
    "        out = policy(torch.tensor(state).unsqueeze(0)) # Use the agent to create a distribution over possible actions given the current state\n",
    "        dist = torch.distributions.Categorical(out) # Wrap the output probabilities in a format usable by torch\n",
    "        action = dist.sample() # Select an action based on the distribution over all output actions\n",
    "        next_state, reward, terminated, truncated, _ = env.step(action.item()) # Take an action in the environment\n",
    "        transitions.append((state, action, reward)) # Store the tuple in the transitions list\n",
    "        log_probs.append(dist.log_prob(action)) # Store the probability outputs for parameter updating later\n",
    "        state = next_state # Update the state to the next state\n",
    "        \n",
    "    return np.array(transitions), log_probs"
   ]
  },
  {
   "attachments": {},
   "cell_type": "markdown",
   "metadata": {},
   "source": [
    "Main functionality"
   ]
  },
  {
   "cell_type": "code",
   "execution_count": 186,
   "metadata": {},
   "outputs": [],
   "source": [
    "def main():\n",
    "\n",
    "    model = Agent()\n",
    "    optimizer = torch.optim.Adam(model.parameters(), lr=1e-2)\n",
    "\n",
    "    rewards = []\n",
    "\n",
    "    bar = trange(MAX_EPISODES, desc=\"Reward: \", leave=True) # Progress bar\n",
    "\n",
    "    for episode in bar:\n",
    "\n",
    "        transitions, log_probs = run_episode(model)\n",
    "        reward = np.sum(transitions[:,2]) # Total reward gained during the episode\n",
    "        rewards.append(reward) # Store all rewards for plotting\n",
    "        loss = [] # Store loss for parameter updates\n",
    "\n",
    "        for t in range(transitions.shape[0]): # Calculate discounted returns\n",
    "            G = 0\n",
    "            for r in range(t, transitions.shape[0]):\n",
    "                G += transitions[r][2] * (gamma ** (r - t)) # Steps far in the future are heavily discounted\n",
    "            loss.append(-G * log_probs[t])\n",
    "        \n",
    "        optimizer.zero_grad() # Zero out the gradients of the optimizer\n",
    "        loss = torch.cat(loss).sum() # Calculate total loss of the episode\n",
    "        loss.backward() # Compute loss gradients\n",
    "        optimizer.step() # Parameter updates\n",
    "\n",
    "        if episode > AVG_EPS_TO_COMPLETION: # Check if the last AVG_EPS_TO_COMPLETION episodes succeed\n",
    "            avg_rewards_last_eps = np.sum(rewards[-AVG_EPS_TO_COMPLETION:]) / AVG_EPS_TO_COMPLETION\n",
    "            if avg_rewards_last_eps > env.spec.reward_threshold: # Terminate if successful\n",
    "                torch.save(model.state_dict(), 'final_model.pt')\n",
    "                return rewards\n",
    "\n",
    "        bar.set_description(\"Reward: \" + str(reward)) # Update progress bar description\n",
    "    \n",
    "    return []"
   ]
  },
  {
   "cell_type": "code",
   "execution_count": 190,
   "metadata": {},
   "outputs": [
    {
     "name": "stderr",
     "output_type": "stream",
     "text": [
      "Reward:   0%|          | 0/1500 [00:00<?, ?it/s]C:\\Users\\Caleb\\AppData\\Local\\Temp/ipykernel_10024/3202585557.py:15: FutureWarning: The input object of type 'Tensor' is an array-like implementing one of the corresponding protocols (`__array__`, `__array_interface__` or `__array_struct__`); but not a sequence (or 0-D). In the future, this object will be coerced as if it was first converted using `np.array(obj)`. To retain the old behaviour, you have to either modify the type 'Tensor', or assign to an empty array created with `np.empty(correct_shape, dtype=object)`.\n",
      "  return np.array(transitions), log_probs\n",
      "C:\\Users\\Caleb\\AppData\\Local\\Temp/ipykernel_10024/3202585557.py:15: VisibleDeprecationWarning: Creating an ndarray from ragged nested sequences (which is a list-or-tuple of lists-or-tuples-or ndarrays with different lengths or shapes) is deprecated. If you meant to do this, you must specify 'dtype=object' when creating the ndarray.\n",
      "  return np.array(transitions), log_probs\n",
      "Reward: 200.0:   9%|▉         | 132/1500 [00:14<02:31,  9.00it/s]\n"
     ]
    }
   ],
   "source": [
    "rewards = main()"
   ]
  },
  {
   "cell_type": "code",
   "execution_count": 192,
   "metadata": {},
   "outputs": [
    {
     "data": {
      "image/png": "[encoded data removed]",
      "text/plain": [
       "<Figure size 432x288 with 1 Axes>"
      ]
     },
     "metadata": {
      "needs_background": "light"
     },
     "output_type": "display_data"
    }
   ],
   "source": [
    "plt.plot(rewards)\n",
    "plt.savefig(\"total_rewards.png\")"
   ]
  },
  {
   "cell_type": "code",
   "execution_count": null,
   "metadata": {},
   "outputs": [],
   "source": []
  }
 ],
 "metadata": {
  "kernelspec": {
   "display_name": "Python 3",
   "language": "python",
   "name": "python3"
  },
  "language_info": {
   "codemirror_mode": {
    "name": "ipython",
    "version": 3
   },
   "file_extension": ".py",
   "mimetype": "text/x-python",
   "name": "python",
   "nbconvert_exporter": "python",
   "pygments_lexer": "ipython3",
   "version": "3.8.8"
  },
  "orig_nbformat": 4
 },
 "nbformat": 4,
 "nbformat_minor": 2
}
